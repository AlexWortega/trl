{
  "cells": [
    {
      "cell_type": "markdown",
      "source": [
        "# Code for paper Retrival reward for ppo finetuning\n",
        "\n",
        "paper not writed yet, but i gonna write it in few weeks\n",
        "\n",
        "author \n",
        "[AlexWortega](https://github.com/AlexWortega) \n",
        "[My blog](https://t.me/lovedeathtransformers)\n",
        "\n",
        "\n",
        "Make sure you have 32 or more vram "
      ],
      "metadata": {
        "id": "PIPkSrerZt3n"
      },
      "id": "PIPkSrerZt3n"
    },
    {
      "cell_type": "code",
      "execution_count": 56,
      "id": "5c02e7a7-b678-4c59-8c6e-71b4fc6df464",
      "metadata": {
        "colab": {
          "base_uri": "https://localhost:8080/"
        },
        "id": "5c02e7a7-b678-4c59-8c6e-71b4fc6df464",
        "outputId": "32d250bd-f0de-4bc8-f98d-f822f91e8ae9"
      },
      "outputs": [
        {
          "output_type": "stream",
          "name": "stdout",
          "text": [
            "Wed Feb 15 14:40:02 2023       \n",
            "+-----------------------------------------------------------------------------+\n",
            "| NVIDIA-SMI 510.47.03    Driver Version: 510.47.03    CUDA Version: 11.6     |\n",
            "|-------------------------------+----------------------+----------------------+\n",
            "| GPU  Name        Persistence-M| Bus-Id        Disp.A | Volatile Uncorr. ECC |\n",
            "| Fan  Temp  Perf  Pwr:Usage/Cap|         Memory-Usage | GPU-Util  Compute M. |\n",
            "|                               |                      |               MIG M. |\n",
            "|===============================+======================+======================|\n",
            "|   0  Tesla T4            Off  | 00000000:00:04.0 Off |                    0 |\n",
            "| N/A   55C    P0    29W /  70W |  15026MiB / 15360MiB |      0%      Default |\n",
            "|                               |                      |                  N/A |\n",
            "+-------------------------------+----------------------+----------------------+\n",
            "                                                                               \n",
            "+-----------------------------------------------------------------------------+\n",
            "| Processes:                                                                  |\n",
            "|  GPU   GI   CI        PID   Type   Process name                  GPU Memory |\n",
            "|        ID   ID                                                   Usage      |\n",
            "|=============================================================================|\n",
            "|    0   N/A  N/A      2575      C                                   15023MiB |\n",
            "+-----------------------------------------------------------------------------+\n"
          ]
        }
      ],
      "source": [
        "!nvidia-smi "
      ]
    },
    {
      "cell_type": "code",
      "execution_count": 2,
      "id": "ZobW049YSKuz",
      "metadata": {
        "id": "ZobW049YSKuz"
      },
      "outputs": [],
      "source": [
        "%%capture\n",
        "!pip install datasets\n",
        "!pip install transfomers\n",
        "!pip install wandb\n",
        "!pip install sentence-transformers\n",
        "!pip install trl"
      ]
    },
    {
      "cell_type": "code",
      "execution_count": null,
      "id": "YtMPBeNRgNKc",
      "metadata": {
        "id": "YtMPBeNRgNKc"
      },
      "outputs": [],
      "source": []
    },
    {
      "cell_type": "code",
      "execution_count": null,
      "id": "CNle5cKGzmYK",
      "metadata": {
        "colab": {
          "base_uri": "https://localhost:8080/"
        },
        "id": "CNle5cKGzmYK",
        "outputId": "6c4a82a5-01ae-497d-f1c0-53031295640e"
      },
      "outputs": [
        {
          "name": "stdout",
          "output_type": "stream",
          "text": [
            "\u001b[34m\u001b[1mwandb\u001b[0m: Logging into wandb.ai. (Learn how to deploy a W&B server locally: https://wandb.me/wandb-server)\n",
            "\u001b[34m\u001b[1mwandb\u001b[0m: You can find your API key in your browser here: https://wandb.ai/authorize\n",
            "\u001b[34m\u001b[1mwandb\u001b[0m: Paste an API key from your profile and hit enter, or press ctrl+c to quit: \n",
            "\u001b[34m\u001b[1mwandb\u001b[0m: Appending key for api.wandb.ai to your netrc file: /root/.netrc\n"
          ]
        }
      ],
      "source": [
        "!wandb login"
      ]
    },
    {
      "cell_type": "code",
      "execution_count": 1,
      "id": "mH8o5gHnzfLP",
      "metadata": {
        "id": "mH8o5gHnzfLP"
      },
      "outputs": [],
      "source": [
        "import torch\n",
        "import wandb\n",
        "import time\n",
        "import os\n",
        "from tqdm import tqdm\n",
        "import numpy as np\n",
        "import pandas as pd\n",
        "\n",
        "\n",
        "from datasets import load_dataset\n",
        "\n",
        "from transformers import AutoTokenizer, pipeline\n",
        "import torch\n",
        "from tqdm import tqdm\n",
        "from transformers import pipeline, AutoTokenizer\n",
        "from datasets import load_dataset\n",
        "\n",
        "from trl import PPOTrainer, PPOConfig, AutoModelForCausalLMWithValueHead\n",
        "from trl.core import LengthSampler\n",
        "\n",
        "# old code, using for init models\n",
        "config = {\n",
        "    \"model_name\": \"gpt2\",\n",
        "    \n",
        "    \"steps\": 20000,\n",
        "    \"batch_size\": 256,\n",
        "    \"forward_batch_size\": 16,\n",
        "    \"ppo_epochs\": 4,   \n",
        "    \"txt_in_min_len\": 2,\n",
        "    \"txt_in_max_len\": 8,\n",
        "    \"txt_out_min_len\": 4,\n",
        "    \"txt_out_max_len\": 16,\n",
        "    \"lr\": 1.41e-5,\n",
        "    \"init_kl_coef\":0.2,\n",
        "    \"target\": 6,\n",
        "    \"horizon\":10000,\n",
        "    \"gamma\":1,\n",
        "    \"lam\":0.95,\n",
        "    \"cliprange\": .2,\n",
        "    \"cliprange_value\":.2,\n",
        "    \"vf_coef\":.1, \n",
        "}\n",
        "device = torch.device(\"cuda\" if torch.cuda.is_available() else \"cpu\")\n",
        "pipe_device = 0 if torch.cuda.is_available() else -1"
      ]
    },
    {
      "cell_type": "code",
      "execution_count": 2,
      "id": "i8YrCObOVdqi",
      "metadata": {
        "id": "i8YrCObOVdqi"
      },
      "outputs": [],
      "source": [
        "\n",
        "from transformers import AutoModelForCausalLM, AutoTokenizer\n",
        "\n",
        "tokenizer = AutoTokenizer.from_pretrained(config['model_name'],padding_side='left')\n",
        "tokenizer.pad_token = tokenizer.eos_token\n",
        "gpt2_model = AutoModelForCausalLMWithValueHead.from_pretrained(config['model_name'])"
      ]
    },
    {
      "cell_type": "code",
      "execution_count": 3,
      "id": "OTv1OvWaIJE0",
      "metadata": {
        "id": "OTv1OvWaIJE0"
      },
      "outputs": [],
      "source": [
        "gpt2_model = AutoModelForCausalLMWithValueHead.from_pretrained(config['model_name'])\n",
        "gpt2_model_ref = AutoModelForCausalLMWithValueHead.from_pretrained(config['model_name'])"
      ]
    },
    {
      "cell_type": "code",
      "execution_count": 4,
      "id": "m3UxPrwKQcwa",
      "metadata": {
        "id": "m3UxPrwKQcwa"
      },
      "outputs": [],
      "source": [
        "gpt2_model.to(device)\n",
        "gpt2_model_ref.to(device)\n",
        "None"
      ]
    },
    {
      "cell_type": "markdown",
      "source": [
        "# About data\n",
        " - I using cos_e data, its contains a QA pairs with extractive explanation, so its looks like:\n",
        " - Its close to common sense reasoning tasks, and also could be solved in ZS style with bigger models\n",
        "___\n",
        "Question: When you drive and see someone walking across the street what do we do?\n",
        "Answer: see someone walking\n",
        "___\n"
      ],
      "metadata": {
        "id": "ZRXmtSNBafZn"
      },
      "id": "ZRXmtSNBafZn"
    },
    {
      "cell_type": "code",
      "execution_count": 5,
      "id": "0a18352b-7049-4005-b001-b9cf18dbbfa0",
      "metadata": {
        "colab": {
          "base_uri": "https://localhost:8080/",
          "height": 86,
          "referenced_widgets": [
            "5b99e419818340bd982eb4ac7fcef369",
            "d9b58a1e487148df9dad08f82ad65c7c",
            "b211619b11ad41658f331f110c613cc3",
            "a350f341e79142c7b40c5419cc8caf94",
            "aa08a48e69b646ee96c7b76630ce9a2d",
            "eee5bf4f53f846a0bfbb0e483b0ab1b6",
            "138b4f43e3114abb8ae1b177450200bb",
            "fa4bbac4e0a843ddb21c0b5d75a34733",
            "f5990d4aef354727acec5728664966d5",
            "725e364759ae4a9abd43051dd061fff3",
            "d08a365ffdbf40fc8b71c3995931ec5e"
          ]
        },
        "id": "0a18352b-7049-4005-b001-b9cf18dbbfa0",
        "outputId": "c827e9ee-8f2e-4250-9518-591ec0536ce7"
      },
      "outputs": [
        {
          "output_type": "stream",
          "name": "stderr",
          "text": [
            "WARNING:datasets.builder:Found cached dataset cos_e (/root/.cache/huggingface/datasets/cos_e/v1.0/1.0.0/e8dc57a5b321a2a97063efb8d316d6d8a0d9a2d3a392dafc913e55bed42736d2)\n"
          ]
        },
        {
          "output_type": "display_data",
          "data": {
            "text/plain": [
              "  0%|          | 0/2 [00:00<?, ?it/s]"
            ],
            "application/vnd.jupyter.widget-view+json": {
              "version_major": 2,
              "version_minor": 0,
              "model_id": "5b99e419818340bd982eb4ac7fcef369"
            }
          },
          "metadata": {}
        }
      ],
      "source": [
        "from datasets import load_dataset\n",
        "\n",
        "dataset = load_dataset(\"cos_e\",'v1.0')\n",
        "qs = dataset['train']['question']\n",
        "ans = dataset['train']['abstractive_explanation']"
      ]
    },
    {
      "cell_type": "code",
      "execution_count": 6,
      "id": "32191b83-06e1-49de-bea5-39ed9d423bde",
      "metadata": {
        "id": "32191b83-06e1-49de-bea5-39ed9d423bde"
      },
      "outputs": [],
      "source": [
        "import pandas as pd\n",
        "\n",
        "\n",
        "data_qa = []\n",
        "for question, answer in zip(qs ,ans):\n",
        "    data_qa+=[f\"Question: {question} Answer: {answer} <|endoftext|>\"]"
      ]
    },
    {
      "cell_type": "code",
      "source": [
        "print(data_qa[0])"
      ],
      "metadata": {
        "colab": {
          "base_uri": "https://localhost:8080/"
        },
        "id": "p__npsDQdY7q",
        "outputId": "bd39dfbd-5309-4996-a2de-251c820efc93"
      },
      "id": "p__npsDQdY7q",
      "execution_count": 7,
      "outputs": [
        {
          "output_type": "stream",
          "name": "stdout",
          "text": [
            "Question: If a lantern is not for sale, where is it likely to be? Answer: a house is the only place that is not likely to sell things <|endoftext|>\n"
          ]
        }
      ]
    },
    {
      "cell_type": "markdown",
      "source": [
        "# Retrival reward\n",
        "- A core idea is: what if we gonna use cosine score to measure how close our answer to ground true answer\n",
        "### Formula\n",
        " \\begin{align}\n",
        "reward = cosinesimilarity(GeneratedAnswer, TroundTrueAnswer)\n",
        " \\end{align}\n",
        "### A little about hardcode\n",
        "also, ppo hacking reward when answers question by question, so i add a checks "
      ],
      "metadata": {
        "id": "Ddz1aRxybbGz"
      },
      "id": "Ddz1aRxybbGz"
    },
    {
      "cell_type": "markdown",
      "source": [
        "Some rewards graphic, std rases because i reward=2 if score >0.7\n",
        "\n",
        "[link to wandb project](https://wandb.ai/alexwortega/trl/runs/cszh2ve8?workspace=user-alexwortega)"
      ],
      "metadata": {
        "id": "lfubewHwi-rI"
      },
      "id": "lfubewHwi-rI"
    },
    {
      "cell_type": "markdown",
      "source": [
        "![image.png](data:image/png;base64,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)"
      ],
      "metadata": {
        "id": "YB0rS54fi8_-"
      },
      "id": "YB0rS54fi8_-"
    },
    {
      "cell_type": "code",
      "execution_count": 8,
      "id": "cdb3d9a4-9dde-411c-8df8-5fc84bc223f0",
      "metadata": {
        "id": "cdb3d9a4-9dde-411c-8df8-5fc84bc223f0"
      },
      "outputs": [],
      "source": [
        "\n",
        "from sentence_transformers import SentenceTransformer, util\n",
        "import torch\n",
        "\n",
        "embedder = SentenceTransformer('sentence-transformers/all-MiniLM-L6-v2')\n"
      ]
    },
    {
      "cell_type": "code",
      "execution_count": 9,
      "id": "4A_3lo_Bk0Xu",
      "metadata": {
        "id": "4A_3lo_Bk0Xu"
      },
      "outputs": [],
      "source": [
        "corpus_embeddings = embedder.encode(data_qa, convert_to_tensor=True)"
      ]
    },
    {
      "cell_type": "code",
      "execution_count": 10,
      "id": "6105b348-fc36-4796-9c43-7e91af44eecb",
      "metadata": {
        "id": "6105b348-fc36-4796-9c43-7e91af44eecb"
      },
      "outputs": [],
      "source": [
        "\n",
        "import numpy as np\n",
        "\n",
        "def _ans(text):\n",
        "    \"\"\"\n",
        "    - returns a closest questions - answer pairs to prompted\n",
        "    \"\"\"\n",
        "    queries = [text.split('answer')[0]]\n",
        "\n",
        "    ans =[]\n",
        "    \n",
        "    top_k = 5\n",
        "    for query in queries:\n",
        "        query_embedding = embedder.encode(query, convert_to_tensor=True)\n",
        "\n",
        "        \n",
        "        cos_scores = util.cos_sim(query_embedding, corpus_embeddings)[0]\n",
        "        top_results = torch.topk(cos_scores, k=top_k)\n",
        "\n",
        "        \n",
        "        return [data_qa[top_results[1][0]], data_qa[top_results[1][1]], data_qa[top_results[1][2]], data_qa[top_results[1][3]], data_qa[top_results[1][4]] ]\n",
        "       \n",
        "\n",
        "    "
      ]
    },
    {
      "cell_type": "code",
      "execution_count": 11,
      "id": "9k48kGXNg-48",
      "metadata": {
        "colab": {
          "base_uri": "https://localhost:8080/"
        },
        "id": "9k48kGXNg-48",
        "outputId": "366a687b-d79a-4603-c348-9cd1e15d3202"
      },
      "outputs": [
        {
          "output_type": "execute_result",
          "data": {
            "text/plain": [
              "['Question: If a lantern is not for sale, where is it likely to be? Answer: a house is the only place that is not likely to sell things <|endoftext|>',\n",
              " 'Question: Where would you find an expensive lantern? Answer: the best place to find an expensive lantern is an antique shop <|endoftext|>',\n",
              " 'Question: Where can you find a movie theater along with other stores in one placE? Answer: e is the only place that is not likely to sell a lantern <|endoftext|>',\n",
              " 'Question: Where are many underaged people served alcoholic beverages? Answer: house is the only place that is not likely to sell a lantern. <|endoftext|>',\n",
              " 'Question: He was a very sharp engineer, but when it came to the details his calculations could were often what? Answer: e is the only place that is not likely to sell a lantern <|endoftext|>']"
            ]
          },
          "metadata": {},
          "execution_count": 11
        }
      ],
      "source": [
        "_ans('If a lantern is not for sale, where is it likely to be?')"
      ]
    },
    {
      "cell_type": "code",
      "execution_count": 12,
      "id": "dCwRcKcumuXa",
      "metadata": {
        "id": "dCwRcKcumuXa"
      },
      "outputs": [],
      "source": [
        "from torch.utils.data import Dataset\n",
        "from tqdm.contrib import tzip\n",
        "from datasets import load_dataset\n",
        "\n",
        "\n",
        "class QADataset(Dataset):\n",
        "    def __init__(self,tokenizer):\n",
        "      dataset = load_dataset(\"cos_e\",'v1.0')\n",
        "      qs = dataset['train']['question']\n",
        "\n",
        "\n",
        "      ans = dataset['train']['abstractive_explanation']\n",
        "\n",
        "      self.tokenized = []\n",
        "      self.t_q = []\n",
        "      self.t_a = []\n",
        "\n",
        "      for a, q in tzip(ans,qs):\n",
        "\n",
        "        pr = f'Question: {q} Answer: {a} {tokenizer.eos_token}'\n",
        "\n",
        "        enc = self._encode(text=pr, tokenizer=tokenizer)\n",
        "        self.tokenized +=[enc]\n",
        "        \n",
        "      \n",
        "      \n",
        "\n",
        "      \n",
        "\n",
        "    def __len__(self):\n",
        "        return len(self.tokenized)\n",
        "\n",
        "    def __getitem__(self, item):\n",
        "        return (self.tokenized[item])\n",
        "\n",
        "    def _encode(self, text, tokenizer):\n",
        "        \n",
        "        encoded_sample = tokenizer.encode(text,  padding='max_length', max_length=512, return_tensors='pt')\n",
        "\n",
        "        return encoded_sample"
      ]
    },
    {
      "cell_type": "code",
      "execution_count": 13,
      "id": "pfNv5y4LHq4i",
      "metadata": {
        "colab": {
          "base_uri": "https://localhost:8080/",
          "height": 118,
          "referenced_widgets": [
            "08a713699a9b4d698e4cc81f2261aa5e",
            "c2d0eaf2a2004b8a9da401a753f0221f",
            "f2f9290d6c2b47adac0ebe4f41370aff",
            "6e1e17161d66483ab18a47fd71582ec0",
            "938b7e9ade484b2194807e8e29f82bb0",
            "c5264f8eefdb429494329903f3d2a4dc",
            "109199c67b7542b690ff1988afa641d6",
            "1ba44ed7af0a427d840885460e6b8fc3",
            "bcd7174584884e9f8a80b081e53fc0d6",
            "9e09e65752134c3babba249c39a20801",
            "7192d471fdb34630bcd4581e8869f415",
            "6bd00f5157114124bf9fea30f007db21",
            "5f3a3ffbe4dc42b4b9b63eb48b9c72ef",
            "f4d97067b143496c98de1ac9de6b664a",
            "aaf29bbdae7c4de495dcd491d90120eb",
            "6837b084dac141418dadf7d997be8fc9",
            "5e8225c53d1d4c44b2b96652a9e96ba2",
            "916691da854048ad986d0d1f053c11ca",
            "a5e175e3ebb04a01ba13abe61975918b",
            "b2850af824dd4e58b92929f73d60bd94",
            "f0d763067b7a42ce861b5cc0bcf10f7b",
            "eb0247165050454eb202e4c87bea8462"
          ]
        },
        "id": "pfNv5y4LHq4i",
        "outputId": "619e2633-d872-4667-b30b-941e4bf38ad5"
      },
      "outputs": [
        {
          "output_type": "stream",
          "name": "stderr",
          "text": [
            "WARNING:datasets.builder:Found cached dataset cos_e (/root/.cache/huggingface/datasets/cos_e/v1.0/1.0.0/e8dc57a5b321a2a97063efb8d316d6d8a0d9a2d3a392dafc913e55bed42736d2)\n"
          ]
        },
        {
          "output_type": "display_data",
          "data": {
            "text/plain": [
              "  0%|          | 0/2 [00:00<?, ?it/s]"
            ],
            "application/vnd.jupyter.widget-view+json": {
              "version_major": 2,
              "version_minor": 0,
              "model_id": "08a713699a9b4d698e4cc81f2261aa5e"
            }
          },
          "metadata": {}
        },
        {
          "output_type": "display_data",
          "data": {
            "text/plain": [
              "  0%|          | 0/7610 [00:00<?, ?it/s]"
            ],
            "application/vnd.jupyter.widget-view+json": {
              "version_major": 2,
              "version_minor": 0,
              "model_id": "6bd00f5157114124bf9fea30f007db21"
            }
          },
          "metadata": {}
        }
      ],
      "source": [
        "from torch.utils.data import DataLoader\n",
        "data = QADataset(tokenizer=tokenizer)"
      ]
    },
    {
      "cell_type": "code",
      "execution_count": 14,
      "id": "zVUQdXGaOQhQ",
      "metadata": {
        "id": "zVUQdXGaOQhQ"
      },
      "outputs": [],
      "source": [
        "train_dataloader = DataLoader(\n",
        "        data, shuffle=True, batch_size=10,  drop_last=True)\n"
      ]
    },
    {
      "cell_type": "code",
      "source": [],
      "metadata": {
        "id": "AEwy8_WreNGm"
      },
      "id": "AEwy8_WreNGm",
      "execution_count": 14,
      "outputs": []
    },
    {
      "cell_type": "code",
      "execution_count": 15,
      "id": "7OMqgKHVIXQH",
      "metadata": {
        "colab": {
          "base_uri": "https://localhost:8080/"
        },
        "id": "7OMqgKHVIXQH",
        "outputId": "617f4ba6-66ed-441a-ff26-d6a4d3c6134b"
      },
      "outputs": [
        {
          "output_type": "execute_result",
          "data": {
            "text/plain": [
              "761"
            ]
          },
          "metadata": {},
          "execution_count": 15
        }
      ],
      "source": [
        "len(train_dataloader)"
      ]
    },
    {
      "cell_type": "markdown",
      "source": [
        "# A SFT function\n",
        "- We gonna make a finetune every epoch, simmilar to OPENAI paper"
      ],
      "metadata": {
        "id": "0GZgZKQWeNvQ"
      },
      "id": "0GZgZKQWeNvQ"
    },
    {
      "cell_type": "code",
      "execution_count": 16,
      "id": "ZO1FYUVjMwK6",
      "metadata": {
        "id": "ZO1FYUVjMwK6"
      },
      "outputs": [],
      "source": [
        "def sft(model, train_dataloader):\n",
        "    from transformers import  AdamW, get_linear_schedule_with_warmup\n",
        "\n",
        "\n",
        "    # also i reinint optimizer and scheduler, idn its works better \n",
        "    optimizer = AdamW(gpt2_model.parameters(), lr = 2e-5)\n",
        "    scheduler = get_linear_schedule_with_warmup(\n",
        "                optimizer, num_warmup_steps=100, num_training_steps=len(train_dataloader)\n",
        "            )\n",
        "    model.train()\n",
        "    for batch in tqdm(train_dataloader):\n",
        "\n",
        "        t = batch[0].to(device)\n",
        "\n",
        "        loss = gpt2_model.forward(input_ids = t, labels=t)[1]\n",
        "\n",
        "        wandb.log({\"SFT loss\":  loss})\n",
        "\n",
        "        torch.nn.utils.clip_grad_norm_(model.parameters(), 0.5)\n",
        "        loss.backward()\n",
        "        optimizer.step()\n",
        "        scheduler.step()\n",
        "    model.eval()\n",
        "    del optimizer\n",
        "    torch.cuda.empty_cache()\n",
        "        \n",
        "\n"
      ]
    },
    {
      "cell_type": "code",
      "execution_count": 17,
      "id": "rOCi9t3WALMW",
      "metadata": {
        "id": "rOCi9t3WALMW"
      },
      "outputs": [],
      "source": [
        "import torch.nn.functional as F\n",
        "\n",
        "def detect_q(a1, a2):\n",
        "    \"\"\"\n",
        "    - checking its not a question\n",
        "    \"\"\"\n",
        "    emb1 = embedder.encode(a1)\n",
        "    emb2 = embedder.encode(a2)\n",
        "    cos_sim = util.cos_sim( emb2,emb1)\n",
        "    return float(cos_sim)\n",
        "\n",
        "def detect_intent(a1, a2):\n",
        "    \"\"\"\n",
        "    measure how close ground true answer to predicted\n",
        "    \"\"\"\n",
        "    a1 = a1\n",
        "    a2 = a2\n",
        "    emb1 = embedder.encode(a1)\n",
        "    emb2 = embedder.encode(a2)\n",
        "    cos_sim = util.cos_sim(emb1, emb2)\n",
        "    return float(cos_sim)"
      ]
    },
    {
      "cell_type": "code",
      "execution_count": 18,
      "id": "f37a5329-d7b4-4c2f-841d-92010170a8ed",
      "metadata": {
        "id": "f37a5329-d7b4-4c2f-841d-92010170a8ed"
      },
      "outputs": [],
      "source": [
        "from re import search\n",
        "def reward(qa):\n",
        "\n",
        "    \n",
        "    ans = _ans(qa)\n",
        "    \n",
        "   \n",
        "    q = qa.split('Answer:')[0]\n",
        "    answer = qa.split('Answer:')[1]\n",
        "    if len(tokenizer.encode(answer))>99:\n",
        "        return 0\n",
        "    if detect_intent(q, answer) > 0.9:\n",
        "        return 0\n",
        "    \n",
        "   \n",
        "    \n",
        "    if ans:\n",
        "        gts = ans\n",
        "        scores = []\n",
        "        # print(gts)\n",
        "        for gt in gts:\n",
        "            s = detect_intent(gt,answer)\n",
        "            #print(gt, answer, s )\n",
        "\n",
        "            scores+=[s]\n",
        "        score = max(scores)\n",
        "        if score>0.7:\n",
        "            return 2\n",
        "        else:\n",
        "            return score\n",
        "    else:\n",
        "        print(answer)\n",
        "        return -1"
      ]
    },
    {
      "cell_type": "markdown",
      "source": [
        "## cheking PPO hacking reward cased"
      ],
      "metadata": {
        "id": "3wOfJj9ee_l9"
      },
      "id": "3wOfJj9ee_l9"
    },
    {
      "cell_type": "code",
      "execution_count": 19,
      "id": "bKot-srYgo4_",
      "metadata": {
        "colab": {
          "base_uri": "https://localhost:8080/"
        },
        "id": "bKot-srYgo4_",
        "outputId": "8e2681ef-1614-42bd-ee6b-7932bc368355"
      },
      "outputs": [
        {
          "output_type": "execute_result",
          "data": {
            "text/plain": [
              "0"
            ]
          },
          "metadata": {},
          "execution_count": 19
        }
      ],
      "source": [
        "reward(\"Question: Early humans would do what on the walls of caves? Answer:  Early humans would do what on the walls of caves? n the walls of caves?\")"
      ]
    },
    {
      "cell_type": "code",
      "execution_count": 20,
      "id": "rv227oK7sOd5",
      "metadata": {
        "colab": {
          "base_uri": "https://localhost:8080/"
        },
        "id": "rv227oK7sOd5",
        "outputId": "352150cd-44f5-4c90-8135-097fad890403"
      },
      "outputs": [
        {
          "output_type": "execute_result",
          "data": {
            "text/plain": [
              "0"
            ]
          },
          "metadata": {},
          "execution_count": 20
        }
      ],
      "source": [
        "reward('Question: how are glacier caves formed? Answer: how are glacier caves formed? ')\n"
      ]
    },
    {
      "cell_type": "code",
      "execution_count": 21,
      "id": "WnQLmDeMM-SC",
      "metadata": {
        "colab": {
          "base_uri": "https://localhost:8080/"
        },
        "id": "WnQLmDeMM-SC",
        "outputId": "3e9995c3-43f8-4ed1-ece7-fd244a9fbcab"
      },
      "outputs": [
        {
          "output_type": "execute_result",
          "data": {
            "text/plain": [
              "2"
            ]
          },
          "metadata": {},
          "execution_count": 21
        }
      ],
      "source": [
        "reward(\"\"\"Question: What are you a part of if you hear a bugle in the mornings?? Answer:What are you a part of if you hear a bugle in the mornings?\n",
        "\n",
        "I am not a part of if you hear a bugle in the mornings.\n",
        "\n",
        "What are you a part of if you hear a bugle in the mornings?\n",
        "\n",
        "I am\"\"\")"
      ]
    },
    {
      "cell_type": "code",
      "execution_count": 22,
      "id": "ZsX5B-MJ0ihl",
      "metadata": {
        "id": "ZsX5B-MJ0ihl"
      },
      "outputs": [],
      "source": [
        "output_min_length = 20\n",
        "output_max_length = 100\n",
        "output_length_sampler = LengthSampler(output_min_length, output_max_length)\n"
      ]
    },
    {
      "cell_type": "code",
      "execution_count": 23,
      "id": "r2DjAls44dmN",
      "metadata": {
        "id": "r2DjAls44dmN"
      },
      "outputs": [],
      "source": [
        "ds = dataset['train']"
      ]
    },
    {
      "cell_type": "code",
      "execution_count": 24,
      "id": "4SrG3QnN0lEs",
      "metadata": {
        "colab": {
          "base_uri": "https://localhost:8080/"
        },
        "id": "4SrG3QnN0lEs",
        "outputId": "d0b6c14f-d13c-4f03-9e9c-70b8e6301db7"
      },
      "outputs": [
        {
          "output_type": "stream",
          "name": "stderr",
          "text": [
            "WARNING:datasets.arrow_dataset:Loading cached processed dataset at /root/.cache/huggingface/datasets/cos_e/v1.0/1.0.0/e8dc57a5b321a2a97063efb8d316d6d8a0d9a2d3a392dafc913e55bed42736d2/cache-b6fcaf5d4e7da86b.arrow\n"
          ]
        }
      ],
      "source": [
        "def tokenize(sample):\n",
        "    sample[\"tokens\"] = tokenizer.encode(f\"Question: { sample['question'] } Answer:\")\n",
        "    #'Question: {q} Answer: {a} {tokenizer.eos_token}\n",
        "    sample[\"query\"] = f\" {tokenizer.decode(sample['tokens'])}\"\n",
        "    return sample\n",
        "\n",
        "ds = ds.map(tokenize, batched=False)"
      ]
    },
    {
      "cell_type": "code",
      "execution_count": 25,
      "id": "kxaq1-rg0os6",
      "metadata": {
        "id": "kxaq1-rg0os6"
      },
      "outputs": [],
      "source": [
        "gen_kwargs = {\n",
        "    \"min_length\":output_min_length,\n",
        "    \"max_length\":100,\n",
        "    \"top_k\": output_max_length,\n",
        "    \"top_p\": 1,\n",
        "    \"do_sample\": True,\n",
        "    \"no_repeat_ngram_size\":2,\n",
        "    \"pad_token_id\": tokenizer.eos_token_id\n",
        "}"
      ]
    },
    {
      "cell_type": "code",
      "execution_count": 26,
      "id": "aRBsnngvAh-d",
      "metadata": {
        "id": "aRBsnngvAh-d"
      },
      "outputs": [],
      "source": [
        "args = {\n",
        "    \"model_name\": \"gpt2\",\n",
        "    \n",
        "    \"steps\": 20000,\n",
        "    \"batch_size\": 256,\n",
        "    \"forward_batch_size\": 16,\n",
        "    \"ppo_epochs\": 4,   \n",
        "    \n",
        "    \"lr\": 1.41e-5,\n",
        "    \"init_kl_coef\":0.2,\n",
        "    \"target\": 6,\n",
        "    \"horizon\":10000,\n",
        "    \"gamma\":1,\n",
        "    \"lam\":0.95,\n",
        "    \"cliprange\": .2,\n",
        "    \"cliprange_value\":.2,\n",
        "    \"vf_coef\":.1, \n",
        "}\n"
      ]
    },
    {
      "cell_type": "code",
      "execution_count": 27,
      "id": "_Z2vm-jc8dGU",
      "metadata": {
        "id": "_Z2vm-jc8dGU"
      },
      "outputs": [],
      "source": [
        "config = PPOConfig(\n",
        "    model_name=\"gpt2\",\n",
        "    learning_rate=1.41e-6,\n",
        "    log_with=\"wandb\",\n",
        "    vf_coef = 0.0001,\n",
        "    ppo_epochs = 4,\n",
        "    batch_size = 64\n",
        ")"
      ]
    },
    {
      "cell_type": "code",
      "execution_count": 28,
      "id": "x0QHced91in4",
      "metadata": {
        "id": "x0QHced91in4"
      },
      "outputs": [],
      "source": [
        "def collator(data):\n",
        "    return dict((key, [d[key] for d in data]) for key in data[0])\n",
        "\n",
        "dataloader = torch.utils.data.DataLoader(ds, batch_size=config.batch_size, collate_fn=collator)"
      ]
    },
    {
      "cell_type": "code",
      "execution_count": 29,
      "id": "T9EaDILThRGj",
      "metadata": {
        "colab": {
          "base_uri": "https://localhost:8080/",
          "height": 159
        },
        "id": "T9EaDILThRGj",
        "outputId": "7e2c07e7-e059-44c7-cad9-335c2272b6d4"
      },
      "outputs": [
        {
          "output_type": "stream",
          "name": "stderr",
          "text": [
            "ERROR:wandb.jupyter:Failed to detect the name of this notebook, you can set it manually with the WANDB_NOTEBOOK_NAME environment variable to enable code saving.\n",
            "\u001b[34m\u001b[1mwandb\u001b[0m: Currently logged in as: \u001b[33malexwortega\u001b[0m. Use \u001b[1m`wandb login --relogin`\u001b[0m to force relogin\n"
          ]
        },
        {
          "output_type": "display_data",
          "data": {
            "text/plain": [
              "<IPython.core.display.HTML object>"
            ],
            "text/html": [
              "Tracking run with wandb version 0.13.10"
            ]
          },
          "metadata": {}
        },
        {
          "output_type": "display_data",
          "data": {
            "text/plain": [
              "<IPython.core.display.HTML object>"
            ],
            "text/html": [
              "Run data is saved locally in <code>/content/wandb/run-20230215_144558-2rubgdr9</code>"
            ]
          },
          "metadata": {}
        },
        {
          "output_type": "display_data",
          "data": {
            "text/plain": [
              "<IPython.core.display.HTML object>"
            ],
            "text/html": [
              "Syncing run <strong><a href='https://wandb.ai/alexwortega/trl/runs/2rubgdr9' target=\"_blank\">dedicated-date-57</a></strong> to <a href='https://wandb.ai/alexwortega/trl' target=\"_blank\">Weights & Biases</a> (<a href='https://wandb.me/run' target=\"_blank\">docs</a>)<br/>"
            ]
          },
          "metadata": {}
        },
        {
          "output_type": "display_data",
          "data": {
            "text/plain": [
              "<IPython.core.display.HTML object>"
            ],
            "text/html": [
              " View project at <a href='https://wandb.ai/alexwortega/trl' target=\"_blank\">https://wandb.ai/alexwortega/trl</a>"
            ]
          },
          "metadata": {}
        },
        {
          "output_type": "display_data",
          "data": {
            "text/plain": [
              "<IPython.core.display.HTML object>"
            ],
            "text/html": [
              " View run at <a href='https://wandb.ai/alexwortega/trl/runs/2rubgdr9' target=\"_blank\">https://wandb.ai/alexwortega/trl/runs/2rubgdr9</a>"
            ]
          },
          "metadata": {}
        }
      ],
      "source": [
        "ppo_trainer = PPOTrainer(config, gpt2_model, gpt2_model_ref, tokenizer, dataset=ds, data_collator=collator)"
      ]
    },
    {
      "cell_type": "code",
      "execution_count": 30,
      "id": "6TSeyz26Suuz",
      "metadata": {
        "colab": {
          "base_uri": "https://localhost:8080/"
        },
        "id": "6TSeyz26Suuz",
        "outputId": "85424ade-8dbf-4eae-c9c1-73181dbfcdf7"
      },
      "outputs": [
        {
          "output_type": "stream",
          "name": "stdout",
          "text": [
            "mkdir: cannot create directory ‘ckpts1’: File exists\n"
          ]
        }
      ],
      "source": [
        "# making ckpts di\n",
        "!mkdir ckpts1"
      ]
    },
    {
      "cell_type": "code",
      "execution_count": null,
      "id": "KeurIsMJ1kdk",
      "metadata": {
        "id": "KeurIsMJ1kdk",
        "tags": []
      },
      "outputs": [],
      "source": [
        "from tqdm.contrib import tzip\n",
        "\n",
        "total_ppo_epochs = int(np.ceil(args[\"steps\"]/config.batch_size))\n",
        "print(total_ppo_epochs)\n",
        "\n",
        "for epoch, batch in tzip(range(total_ppo_epochs), iter(dataloader)):\n",
        "   \n",
        "    \n",
        "    logs, timing = dict(), dict()\n",
        "   \n",
        "    query_tensors = [torch.tensor(t).long().to(device) for t in batch[\"tokens\"]]\n",
        "    \n",
        "    \n",
        "    \n",
        "    response_tensors = []\n",
        "    for i in range(config.batch_size):\n",
        "        try:\n",
        "            response = gpt2_model.generate(query_tensors[i].unsqueeze(dim=0),\n",
        "                                       **gen_kwargs)\n",
        "            response_tensors.append(response.squeeze())\n",
        "        except Exception as e:\n",
        "            print(e)\n",
        "    batch['response'] = [tokenizer.decode(r.squeeze()) for r in response_tensors]\n",
        "    texts = [r for q,r in zip(batch['query'], batch['response'])]\n",
        "    rewards_l = []\n",
        "    rsw = []\n",
        "    i = 0\n",
        "    for text in texts:\n",
        "        x = reward(text)\n",
        "        i+=1\n",
        "         \n",
        "        rsw += [x]   \n",
        "        rewards_l += [torch.tensor(x)]\n",
        "\n",
        "    rewards = rewards_l\n",
        "    \n",
        "    \n",
        "    \n",
        "    #### Run PPO step \n",
        "    \n",
        "    stats = ppo_trainer.step(query_tensors, response_tensors, rewards)\n",
        "    \n",
        "    #### Logs\n",
        "    rewards = np.array(rsw)\n",
        "    table_rows = [list(r) for r in zip(batch['query'], batch['response'], rewards)]\n",
        "    logs.update({'game_log': wandb.Table(columns=['query', 'response', 'reward'], rows=table_rows)})\n",
        "    logs.update(timing)\n",
        "    logs.update(stats)\n",
        "    logs['env/reward_mean'] = rewards.mean()\n",
        "    logs['env/reward_std'] = rewards.std()\n",
        "    logs['env/reward_dist'] = rewards\n",
        "    wandb.log(logs)\n",
        "    \n",
        "    gpt2_model.save_pretrained(f'ckpts1/ppo_{epoch}')\n",
        "    ### Run  sft step\n",
        "    sft(gpt2_model, train_dataloader)\n",
        "    \n",
        "    gpt2_model.save_pretrained(f'ckpts1/sft_{epoch}')\n",
        "    \n",
        "    \n",
        "        \n",
        "    \n",
        "    \n",
        "   \n",
        "\n",
        "    \n"
      ]
    }
  ],
  "metadata": {
    "accelerator": "GPU",
    "colab": {
      "provenance": []
    },
    "gpuClass": "standard",
    "kernelspec": {
      "display_name": "Python 3 (ipykernel)",
      "language": "python",
      "name": "python3"
    },
    "language_info": {
      "codemirror_mode": {
        "name": "ipython",
        "version": 3
      },
      "file_extension": ".py",
      "mimetype": "text/x-python",
      "name": "python",
      "nbconvert_exporter": "python",
      "pygments_lexer": "ipython3",
      "version": "3.7.12"
    },
    "widgets": {
      "application/vnd.jupyter.widget-state+json": {
        "5b99e419818340bd982eb4ac7fcef369": {
          "model_module": "@jupyter-widgets/controls",
          "model_name": "HBoxModel",
          "model_module_version": "1.5.0",
          "state": {
            "_dom_classes": [],
            "_model_module": "@jupyter-widgets/controls",
            "_model_module_version": "1.5.0",
            "_model_name": "HBoxModel",
            "_view_count": null,
            "_view_module": "@jupyter-widgets/controls",
            "_view_module_version": "1.5.0",
            "_view_name": "HBoxView",
            "box_style": "",
            "children": [
              "IPY_MODEL_d9b58a1e487148df9dad08f82ad65c7c",
              "IPY_MODEL_b211619b11ad41658f331f110c613cc3",
              "IPY_MODEL_a350f341e79142c7b40c5419cc8caf94"
            ],
            "layout": "IPY_MODEL_aa08a48e69b646ee96c7b76630ce9a2d"
          }
        },
        "d9b58a1e487148df9dad08f82ad65c7c": {
          "model_module": "@jupyter-widgets/controls",
          "model_name": "HTMLModel",
          "model_module_version": "1.5.0",
          "state": {
            "_dom_classes": [],
            "_model_module": "@jupyter-widgets/controls",
            "_model_module_version": "1.5.0",
            "_model_name": "HTMLModel",
            "_view_count": null,
            "_view_module": "@jupyter-widgets/controls",
            "_view_module_version": "1.5.0",
            "_view_name": "HTMLView",
            "description": "",
            "description_tooltip": null,
            "layout": "IPY_MODEL_eee5bf4f53f846a0bfbb0e483b0ab1b6",
            "placeholder": "​",
            "style": "IPY_MODEL_138b4f43e3114abb8ae1b177450200bb",
            "value": "100%"
          }
        },
        "b211619b11ad41658f331f110c613cc3": {
          "model_module": "@jupyter-widgets/controls",
          "model_name": "FloatProgressModel",
          "model_module_version": "1.5.0",
          "state": {
            "_dom_classes": [],
            "_model_module": "@jupyter-widgets/controls",
            "_model_module_version": "1.5.0",
            "_model_name": "FloatProgressModel",
            "_view_count": null,
            "_view_module": "@jupyter-widgets/controls",
            "_view_module_version": "1.5.0",
            "_view_name": "ProgressView",
            "bar_style": "success",
            "description": "",
            "description_tooltip": null,
            "layout": "IPY_MODEL_fa4bbac4e0a843ddb21c0b5d75a34733",
            "max": 2,
            "min": 0,
            "orientation": "horizontal",
            "style": "IPY_MODEL_f5990d4aef354727acec5728664966d5",
            "value": 2
          }
        },
        "a350f341e79142c7b40c5419cc8caf94": {
          "model_module": "@jupyter-widgets/controls",
          "model_name": "HTMLModel",
          "model_module_version": "1.5.0",
          "state": {
            "_dom_classes": [],
            "_model_module": "@jupyter-widgets/controls",
            "_model_module_version": "1.5.0",
            "_model_name": "HTMLModel",
            "_view_count": null,
            "_view_module": "@jupyter-widgets/controls",
            "_view_module_version": "1.5.0",
            "_view_name": "HTMLView",
            "description": "",
            "description_tooltip": null,
            "layout": "IPY_MODEL_725e364759ae4a9abd43051dd061fff3",
            "placeholder": "​",
            "style": "IPY_MODEL_d08a365ffdbf40fc8b71c3995931ec5e",
            "value": " 2/2 [00:00&lt;00:00, 34.10it/s]"
          }
        },
        "aa08a48e69b646ee96c7b76630ce9a2d": {
          "model_module": "@jupyter-widgets/base",
          "model_name": "LayoutModel",
          "model_module_version": "1.2.0",
          "state": {
            "_model_module": "@jupyter-widgets/base",
            "_model_module_version": "1.2.0",
            "_model_name": "LayoutModel",
            "_view_count": null,
            "_view_module": "@jupyter-widgets/base",
            "_view_module_version": "1.2.0",
            "_view_name": "LayoutView",
            "align_content": null,
            "align_items": null,
            "align_self": null,
            "border": null,
            "bottom": null,
            "display": null,
            "flex": null,
            "flex_flow": null,
            "grid_area": null,
            "grid_auto_columns": null,
            "grid_auto_flow": null,
            "grid_auto_rows": null,
            "grid_column": null,
            "grid_gap": null,
            "grid_row": null,
            "grid_template_areas": null,
            "grid_template_columns": null,
            "grid_template_rows": null,
            "height": null,
            "justify_content": null,
            "justify_items": null,
            "left": null,
            "margin": null,
            "max_height": null,
            "max_width": null,
            "min_height": null,
            "min_width": null,
            "object_fit": null,
            "object_position": null,
            "order": null,
            "overflow": null,
            "overflow_x": null,
            "overflow_y": null,
            "padding": null,
            "right": null,
            "top": null,
            "visibility": null,
            "width": null
          }
        },
        "eee5bf4f53f846a0bfbb0e483b0ab1b6": {
          "model_module": "@jupyter-widgets/base",
          "model_name": "LayoutModel",
          "model_module_version": "1.2.0",
          "state": {
            "_model_module": "@jupyter-widgets/base",
            "_model_module_version": "1.2.0",
            "_model_name": "LayoutModel",
            "_view_count": null,
            "_view_module": "@jupyter-widgets/base",
            "_view_module_version": "1.2.0",
            "_view_name": "LayoutView",
            "align_content": null,
            "align_items": null,
            "align_self": null,
            "border": null,
            "bottom": null,
            "display": null,
            "flex": null,
            "flex_flow": null,
            "grid_area": null,
            "grid_auto_columns": null,
            "grid_auto_flow": null,
            "grid_auto_rows": null,
            "grid_column": null,
            "grid_gap": null,
            "grid_row": null,
            "grid_template_areas": null,
            "grid_template_columns": null,
            "grid_template_rows": null,
            "height": null,
            "justify_content": null,
            "justify_items": null,
            "left": null,
            "margin": null,
            "max_height": null,
            "max_width": null,
            "min_height": null,
            "min_width": null,
            "object_fit": null,
            "object_position": null,
            "order": null,
            "overflow": null,
            "overflow_x": null,
            "overflow_y": null,
            "padding": null,
            "right": null,
            "top": null,
            "visibility": null,
            "width": null
          }
        },
        "138b4f43e3114abb8ae1b177450200bb": {
          "model_module": "@jupyter-widgets/controls",
          "model_name": "DescriptionStyleModel",
          "model_module_version": "1.5.0",
          "state": {
            "_model_module": "@jupyter-widgets/controls",
            "_model_module_version": "1.5.0",
            "_model_name": "DescriptionStyleModel",
            "_view_count": null,
            "_view_module": "@jupyter-widgets/base",
            "_view_module_version": "1.2.0",
            "_view_name": "StyleView",
            "description_width": ""
          }
        },
        "fa4bbac4e0a843ddb21c0b5d75a34733": {
          "model_module": "@jupyter-widgets/base",
          "model_name": "LayoutModel",
          "model_module_version": "1.2.0",
          "state": {
            "_model_module": "@jupyter-widgets/base",
            "_model_module_version": "1.2.0",
            "_model_name": "LayoutModel",
            "_view_count": null,
            "_view_module": "@jupyter-widgets/base",
            "_view_module_version": "1.2.0",
            "_view_name": "LayoutView",
            "align_content": null,
            "align_items": null,
            "align_self": null,
            "border": null,
            "bottom": null,
            "display": null,
            "flex": null,
            "flex_flow": null,
            "grid_area": null,
            "grid_auto_columns": null,
            "grid_auto_flow": null,
            "grid_auto_rows": null,
            "grid_column": null,
            "grid_gap": null,
            "grid_row": null,
            "grid_template_areas": null,
            "grid_template_columns": null,
            "grid_template_rows": null,
            "height": null,
            "justify_content": null,
            "justify_items": null,
            "left": null,
            "margin": null,
            "max_height": null,
            "max_width": null,
            "min_height": null,
            "min_width": null,
            "object_fit": null,
            "object_position": null,
            "order": null,
            "overflow": null,
            "overflow_x": null,
            "overflow_y": null,
            "padding": null,
            "right": null,
            "top": null,
            "visibility": null,
            "width": null
          }
        },
        "f5990d4aef354727acec5728664966d5": {
          "model_module": "@jupyter-widgets/controls",
          "model_name": "ProgressStyleModel",
          "model_module_version": "1.5.0",
          "state": {
            "_model_module": "@jupyter-widgets/controls",
            "_model_module_version": "1.5.0",
            "_model_name": "ProgressStyleModel",
            "_view_count": null,
            "_view_module": "@jupyter-widgets/base",
            "_view_module_version": "1.2.0",
            "_view_name": "StyleView",
            "bar_color": null,
            "description_width": ""
          }
        },
        "725e364759ae4a9abd43051dd061fff3": {
          "model_module": "@jupyter-widgets/base",
          "model_name": "LayoutModel",
          "model_module_version": "1.2.0",
          "state": {
            "_model_module": "@jupyter-widgets/base",
            "_model_module_version": "1.2.0",
            "_model_name": "LayoutModel",
            "_view_count": null,
            "_view_module": "@jupyter-widgets/base",
            "_view_module_version": "1.2.0",
            "_view_name": "LayoutView",
            "align_content": null,
            "align_items": null,
            "align_self": null,
            "border": null,
            "bottom": null,
            "display": null,
            "flex": null,
            "flex_flow": null,
            "grid_area": null,
            "grid_auto_columns": null,
            "grid_auto_flow": null,
            "grid_auto_rows": null,
            "grid_column": null,
            "grid_gap": null,
            "grid_row": null,
            "grid_template_areas": null,
            "grid_template_columns": null,
            "grid_template_rows": null,
            "height": null,
            "justify_content": null,
            "justify_items": null,
            "left": null,
            "margin": null,
            "max_height": null,
            "max_width": null,
            "min_height": null,
            "min_width": null,
            "object_fit": null,
            "object_position": null,
            "order": null,
            "overflow": null,
            "overflow_x": null,
            "overflow_y": null,
            "padding": null,
            "right": null,
            "top": null,
            "visibility": null,
            "width": null
          }
        },
        "d08a365ffdbf40fc8b71c3995931ec5e": {
          "model_module": "@jupyter-widgets/controls",
          "model_name": "DescriptionStyleModel",
          "model_module_version": "1.5.0",
          "state": {
            "_model_module": "@jupyter-widgets/controls",
            "_model_module_version": "1.5.0",
            "_model_name": "DescriptionStyleModel",
            "_view_count": null,
            "_view_module": "@jupyter-widgets/base",
            "_view_module_version": "1.2.0",
            "_view_name": "StyleView",
            "description_width": ""
          }
        },
        "08a713699a9b4d698e4cc81f2261aa5e": {
          "model_module": "@jupyter-widgets/controls",
          "model_name": "HBoxModel",
          "model_module_version": "1.5.0",
          "state": {
            "_dom_classes": [],
            "_model_module": "@jupyter-widgets/controls",
            "_model_module_version": "1.5.0",
            "_model_name": "HBoxModel",
            "_view_count": null,
            "_view_module": "@jupyter-widgets/controls",
            "_view_module_version": "1.5.0",
            "_view_name": "HBoxView",
            "box_style": "",
            "children": [
              "IPY_MODEL_c2d0eaf2a2004b8a9da401a753f0221f",
              "IPY_MODEL_f2f9290d6c2b47adac0ebe4f41370aff",
              "IPY_MODEL_6e1e17161d66483ab18a47fd71582ec0"
            ],
            "layout": "IPY_MODEL_938b7e9ade484b2194807e8e29f82bb0"
          }
        },
        "c2d0eaf2a2004b8a9da401a753f0221f": {
          "model_module": "@jupyter-widgets/controls",
          "model_name": "HTMLModel",
          "model_module_version": "1.5.0",
          "state": {
            "_dom_classes": [],
            "_model_module": "@jupyter-widgets/controls",
            "_model_module_version": "1.5.0",
            "_model_name": "HTMLModel",
            "_view_count": null,
            "_view_module": "@jupyter-widgets/controls",
            "_view_module_version": "1.5.0",
            "_view_name": "HTMLView",
            "description": "",
            "description_tooltip": null,
            "layout": "IPY_MODEL_c5264f8eefdb429494329903f3d2a4dc",
            "placeholder": "​",
            "style": "IPY_MODEL_109199c67b7542b690ff1988afa641d6",
            "value": "100%"
          }
        },
        "f2f9290d6c2b47adac0ebe4f41370aff": {
          "model_module": "@jupyter-widgets/controls",
          "model_name": "FloatProgressModel",
          "model_module_version": "1.5.0",
          "state": {
            "_dom_classes": [],
            "_model_module": "@jupyter-widgets/controls",
            "_model_module_version": "1.5.0",
            "_model_name": "FloatProgressModel",
            "_view_count": null,
            "_view_module": "@jupyter-widgets/controls",
            "_view_module_version": "1.5.0",
            "_view_name": "ProgressView",
            "bar_style": "success",
            "description": "",
            "description_tooltip": null,
            "layout": "IPY_MODEL_1ba44ed7af0a427d840885460e6b8fc3",
            "max": 2,
            "min": 0,
            "orientation": "horizontal",
            "style": "IPY_MODEL_bcd7174584884e9f8a80b081e53fc0d6",
            "value": 2
          }
        },
        "6e1e17161d66483ab18a47fd71582ec0": {
          "model_module": "@jupyter-widgets/controls",
          "model_name": "HTMLModel",
          "model_module_version": "1.5.0",
          "state": {
            "_dom_classes": [],
            "_model_module": "@jupyter-widgets/controls",
            "_model_module_version": "1.5.0",
            "_model_name": "HTMLModel",
            "_view_count": null,
            "_view_module": "@jupyter-widgets/controls",
            "_view_module_version": "1.5.0",
            "_view_name": "HTMLView",
            "description": "",
            "description_tooltip": null,
            "layout": "IPY_MODEL_9e09e65752134c3babba249c39a20801",
            "placeholder": "​",
            "style": "IPY_MODEL_7192d471fdb34630bcd4581e8869f415",
            "value": " 2/2 [00:00&lt;00:00, 81.72it/s]"
          }
        },
        "938b7e9ade484b2194807e8e29f82bb0": {
          "model_module": "@jupyter-widgets/base",
          "model_name": "LayoutModel",
          "model_module_version": "1.2.0",
          "state": {
            "_model_module": "@jupyter-widgets/base",
            "_model_module_version": "1.2.0",
            "_model_name": "LayoutModel",
            "_view_count": null,
            "_view_module": "@jupyter-widgets/base",
            "_view_module_version": "1.2.0",
            "_view_name": "LayoutView",
            "align_content": null,
            "align_items": null,
            "align_self": null,
            "border": null,
            "bottom": null,
            "display": null,
            "flex": null,
            "flex_flow": null,
            "grid_area": null,
            "grid_auto_columns": null,
            "grid_auto_flow": null,
            "grid_auto_rows": null,
            "grid_column": null,
            "grid_gap": null,
            "grid_row": null,
            "grid_template_areas": null,
            "grid_template_columns": null,
            "grid_template_rows": null,
            "height": null,
            "justify_content": null,
            "justify_items": null,
            "left": null,
            "margin": null,
            "max_height": null,
            "max_width": null,
            "min_height": null,
            "min_width": null,
            "object_fit": null,
            "object_position": null,
            "order": null,
            "overflow": null,
            "overflow_x": null,
            "overflow_y": null,
            "padding": null,
            "right": null,
            "top": null,
            "visibility": null,
            "width": null
          }
        },
        "c5264f8eefdb429494329903f3d2a4dc": {
          "model_module": "@jupyter-widgets/base",
          "model_name": "LayoutModel",
          "model_module_version": "1.2.0",
          "state": {
            "_model_module": "@jupyter-widgets/base",
            "_model_module_version": "1.2.0",
            "_model_name": "LayoutModel",
            "_view_count": null,
            "_view_module": "@jupyter-widgets/base",
            "_view_module_version": "1.2.0",
            "_view_name": "LayoutView",
            "align_content": null,
            "align_items": null,
            "align_self": null,
            "border": null,
            "bottom": null,
            "display": null,
            "flex": null,
            "flex_flow": null,
            "grid_area": null,
            "grid_auto_columns": null,
            "grid_auto_flow": null,
            "grid_auto_rows": null,
            "grid_column": null,
            "grid_gap": null,
            "grid_row": null,
            "grid_template_areas": null,
            "grid_template_columns": null,
            "grid_template_rows": null,
            "height": null,
            "justify_content": null,
            "justify_items": null,
            "left": null,
            "margin": null,
            "max_height": null,
            "max_width": null,
            "min_height": null,
            "min_width": null,
            "object_fit": null,
            "object_position": null,
            "order": null,
            "overflow": null,
            "overflow_x": null,
            "overflow_y": null,
            "padding": null,
            "right": null,
            "top": null,
            "visibility": null,
            "width": null
          }
        },
        "109199c67b7542b690ff1988afa641d6": {
          "model_module": "@jupyter-widgets/controls",
          "model_name": "DescriptionStyleModel",
          "model_module_version": "1.5.0",
          "state": {
            "_model_module": "@jupyter-widgets/controls",
            "_model_module_version": "1.5.0",
            "_model_name": "DescriptionStyleModel",
            "_view_count": null,
            "_view_module": "@jupyter-widgets/base",
            "_view_module_version": "1.2.0",
            "_view_name": "StyleView",
            "description_width": ""
          }
        },
        "1ba44ed7af0a427d840885460e6b8fc3": {
          "model_module": "@jupyter-widgets/base",
          "model_name": "LayoutModel",
          "model_module_version": "1.2.0",
          "state": {
            "_model_module": "@jupyter-widgets/base",
            "_model_module_version": "1.2.0",
            "_model_name": "LayoutModel",
            "_view_count": null,
            "_view_module": "@jupyter-widgets/base",
            "_view_module_version": "1.2.0",
            "_view_name": "LayoutView",
            "align_content": null,
            "align_items": null,
            "align_self": null,
            "border": null,
            "bottom": null,
            "display": null,
            "flex": null,
            "flex_flow": null,
            "grid_area": null,
            "grid_auto_columns": null,
            "grid_auto_flow": null,
            "grid_auto_rows": null,
            "grid_column": null,
            "grid_gap": null,
            "grid_row": null,
            "grid_template_areas": null,
            "grid_template_columns": null,
            "grid_template_rows": null,
            "height": null,
            "justify_content": null,
            "justify_items": null,
            "left": null,
            "margin": null,
            "max_height": null,
            "max_width": null,
            "min_height": null,
            "min_width": null,
            "object_fit": null,
            "object_position": null,
            "order": null,
            "overflow": null,
            "overflow_x": null,
            "overflow_y": null,
            "padding": null,
            "right": null,
            "top": null,
            "visibility": null,
            "width": null
          }
        },
        "bcd7174584884e9f8a80b081e53fc0d6": {
          "model_module": "@jupyter-widgets/controls",
          "model_name": "ProgressStyleModel",
          "model_module_version": "1.5.0",
          "state": {
            "_model_module": "@jupyter-widgets/controls",
            "_model_module_version": "1.5.0",
            "_model_name": "ProgressStyleModel",
            "_view_count": null,
            "_view_module": "@jupyter-widgets/base",
            "_view_module_version": "1.2.0",
            "_view_name": "StyleView",
            "bar_color": null,
            "description_width": ""
          }
        },
        "9e09e65752134c3babba249c39a20801": {
          "model_module": "@jupyter-widgets/base",
          "model_name": "LayoutModel",
          "model_module_version": "1.2.0",
          "state": {
            "_model_module": "@jupyter-widgets/base",
            "_model_module_version": "1.2.0",
            "_model_name": "LayoutModel",
            "_view_count": null,
            "_view_module": "@jupyter-widgets/base",
            "_view_module_version": "1.2.0",
            "_view_name": "LayoutView",
            "align_content": null,
            "align_items": null,
            "align_self": null,
            "border": null,
            "bottom": null,
            "display": null,
            "flex": null,
            "flex_flow": null,
            "grid_area": null,
            "grid_auto_columns": null,
            "grid_auto_flow": null,
            "grid_auto_rows": null,
            "grid_column": null,
            "grid_gap": null,
            "grid_row": null,
            "grid_template_areas": null,
            "grid_template_columns": null,
            "grid_template_rows": null,
            "height": null,
            "justify_content": null,
            "justify_items": null,
            "left": null,
            "margin": null,
            "max_height": null,
            "max_width": null,
            "min_height": null,
            "min_width": null,
            "object_fit": null,
            "object_position": null,
            "order": null,
            "overflow": null,
            "overflow_x": null,
            "overflow_y": null,
            "padding": null,
            "right": null,
            "top": null,
            "visibility": null,
            "width": null
          }
        },
        "7192d471fdb34630bcd4581e8869f415": {
          "model_module": "@jupyter-widgets/controls",
          "model_name": "DescriptionStyleModel",
          "model_module_version": "1.5.0",
          "state": {
            "_model_module": "@jupyter-widgets/controls",
            "_model_module_version": "1.5.0",
            "_model_name": "DescriptionStyleModel",
            "_view_count": null,
            "_view_module": "@jupyter-widgets/base",
            "_view_module_version": "1.2.0",
            "_view_name": "StyleView",
            "description_width": ""
          }
        },
        "6bd00f5157114124bf9fea30f007db21": {
          "model_module": "@jupyter-widgets/controls",
          "model_name": "HBoxModel",
          "model_module_version": "1.5.0",
          "state": {
            "_dom_classes": [],
            "_model_module": "@jupyter-widgets/controls",
            "_model_module_version": "1.5.0",
            "_model_name": "HBoxModel",
            "_view_count": null,
            "_view_module": "@jupyter-widgets/controls",
            "_view_module_version": "1.5.0",
            "_view_name": "HBoxView",
            "box_style": "",
            "children": [
              "IPY_MODEL_5f3a3ffbe4dc42b4b9b63eb48b9c72ef",
              "IPY_MODEL_f4d97067b143496c98de1ac9de6b664a",
              "IPY_MODEL_aaf29bbdae7c4de495dcd491d90120eb"
            ],
            "layout": "IPY_MODEL_6837b084dac141418dadf7d997be8fc9"
          }
        },
        "5f3a3ffbe4dc42b4b9b63eb48b9c72ef": {
          "model_module": "@jupyter-widgets/controls",
          "model_name": "HTMLModel",
          "model_module_version": "1.5.0",
          "state": {
            "_dom_classes": [],
            "_model_module": "@jupyter-widgets/controls",
            "_model_module_version": "1.5.0",
            "_model_name": "HTMLModel",
            "_view_count": null,
            "_view_module": "@jupyter-widgets/controls",
            "_view_module_version": "1.5.0",
            "_view_name": "HTMLView",
            "description": "",
            "description_tooltip": null,
            "layout": "IPY_MODEL_5e8225c53d1d4c44b2b96652a9e96ba2",
            "placeholder": "​",
            "style": "IPY_MODEL_916691da854048ad986d0d1f053c11ca",
            "value": "100%"
          }
        },
        "f4d97067b143496c98de1ac9de6b664a": {
          "model_module": "@jupyter-widgets/controls",
          "model_name": "FloatProgressModel",
          "model_module_version": "1.5.0",
          "state": {
            "_dom_classes": [],
            "_model_module": "@jupyter-widgets/controls",
            "_model_module_version": "1.5.0",
            "_model_name": "FloatProgressModel",
            "_view_count": null,
            "_view_module": "@jupyter-widgets/controls",
            "_view_module_version": "1.5.0",
            "_view_name": "ProgressView",
            "bar_style": "success",
            "description": "",
            "description_tooltip": null,
            "layout": "IPY_MODEL_a5e175e3ebb04a01ba13abe61975918b",
            "max": 7610,
            "min": 0,
            "orientation": "horizontal",
            "style": "IPY_MODEL_b2850af824dd4e58b92929f73d60bd94",
            "value": 7610
          }
        },
        "aaf29bbdae7c4de495dcd491d90120eb": {
          "model_module": "@jupyter-widgets/controls",
          "model_name": "HTMLModel",
          "model_module_version": "1.5.0",
          "state": {
            "_dom_classes": [],
            "_model_module": "@jupyter-widgets/controls",
            "_model_module_version": "1.5.0",
            "_model_name": "HTMLModel",
            "_view_count": null,
            "_view_module": "@jupyter-widgets/controls",
            "_view_module_version": "1.5.0",
            "_view_name": "HTMLView",
            "description": "",
            "description_tooltip": null,
            "layout": "IPY_MODEL_f0d763067b7a42ce861b5cc0bcf10f7b",
            "placeholder": "​",
            "style": "IPY_MODEL_eb0247165050454eb202e4c87bea8462",
            "value": " 7610/7610 [00:03&lt;00:00, 1563.08it/s]"
          }
        },
        "6837b084dac141418dadf7d997be8fc9": {
          "model_module": "@jupyter-widgets/base",
          "model_name": "LayoutModel",
          "model_module_version": "1.2.0",
          "state": {
            "_model_module": "@jupyter-widgets/base",
            "_model_module_version": "1.2.0",
            "_model_name": "LayoutModel",
            "_view_count": null,
            "_view_module": "@jupyter-widgets/base",
            "_view_module_version": "1.2.0",
            "_view_name": "LayoutView",
            "align_content": null,
            "align_items": null,
            "align_self": null,
            "border": null,
            "bottom": null,
            "display": null,
            "flex": null,
            "flex_flow": null,
            "grid_area": null,
            "grid_auto_columns": null,
            "grid_auto_flow": null,
            "grid_auto_rows": null,
            "grid_column": null,
            "grid_gap": null,
            "grid_row": null,
            "grid_template_areas": null,
            "grid_template_columns": null,
            "grid_template_rows": null,
            "height": null,
            "justify_content": null,
            "justify_items": null,
            "left": null,
            "margin": null,
            "max_height": null,
            "max_width": null,
            "min_height": null,
            "min_width": null,
            "object_fit": null,
            "object_position": null,
            "order": null,
            "overflow": null,
            "overflow_x": null,
            "overflow_y": null,
            "padding": null,
            "right": null,
            "top": null,
            "visibility": null,
            "width": null
          }
        },
        "5e8225c53d1d4c44b2b96652a9e96ba2": {
          "model_module": "@jupyter-widgets/base",
          "model_name": "LayoutModel",
          "model_module_version": "1.2.0",
          "state": {
            "_model_module": "@jupyter-widgets/base",
            "_model_module_version": "1.2.0",
            "_model_name": "LayoutModel",
            "_view_count": null,
            "_view_module": "@jupyter-widgets/base",
            "_view_module_version": "1.2.0",
            "_view_name": "LayoutView",
            "align_content": null,
            "align_items": null,
            "align_self": null,
            "border": null,
            "bottom": null,
            "display": null,
            "flex": null,
            "flex_flow": null,
            "grid_area": null,
            "grid_auto_columns": null,
            "grid_auto_flow": null,
            "grid_auto_rows": null,
            "grid_column": null,
            "grid_gap": null,
            "grid_row": null,
            "grid_template_areas": null,
            "grid_template_columns": null,
            "grid_template_rows": null,
            "height": null,
            "justify_content": null,
            "justify_items": null,
            "left": null,
            "margin": null,
            "max_height": null,
            "max_width": null,
            "min_height": null,
            "min_width": null,
            "object_fit": null,
            "object_position": null,
            "order": null,
            "overflow": null,
            "overflow_x": null,
            "overflow_y": null,
            "padding": null,
            "right": null,
            "top": null,
            "visibility": null,
            "width": null
          }
        },
        "916691da854048ad986d0d1f053c11ca": {
          "model_module": "@jupyter-widgets/controls",
          "model_name": "DescriptionStyleModel",
          "model_module_version": "1.5.0",
          "state": {
            "_model_module": "@jupyter-widgets/controls",
            "_model_module_version": "1.5.0",
            "_model_name": "DescriptionStyleModel",
            "_view_count": null,
            "_view_module": "@jupyter-widgets/base",
            "_view_module_version": "1.2.0",
            "_view_name": "StyleView",
            "description_width": ""
          }
        },
        "a5e175e3ebb04a01ba13abe61975918b": {
          "model_module": "@jupyter-widgets/base",
          "model_name": "LayoutModel",
          "model_module_version": "1.2.0",
          "state": {
            "_model_module": "@jupyter-widgets/base",
            "_model_module_version": "1.2.0",
            "_model_name": "LayoutModel",
            "_view_count": null,
            "_view_module": "@jupyter-widgets/base",
            "_view_module_version": "1.2.0",
            "_view_name": "LayoutView",
            "align_content": null,
            "align_items": null,
            "align_self": null,
            "border": null,
            "bottom": null,
            "display": null,
            "flex": null,
            "flex_flow": null,
            "grid_area": null,
            "grid_auto_columns": null,
            "grid_auto_flow": null,
            "grid_auto_rows": null,
            "grid_column": null,
            "grid_gap": null,
            "grid_row": null,
            "grid_template_areas": null,
            "grid_template_columns": null,
            "grid_template_rows": null,
            "height": null,
            "justify_content": null,
            "justify_items": null,
            "left": null,
            "margin": null,
            "max_height": null,
            "max_width": null,
            "min_height": null,
            "min_width": null,
            "object_fit": null,
            "object_position": null,
            "order": null,
            "overflow": null,
            "overflow_x": null,
            "overflow_y": null,
            "padding": null,
            "right": null,
            "top": null,
            "visibility": null,
            "width": null
          }
        },
        "b2850af824dd4e58b92929f73d60bd94": {
          "model_module": "@jupyter-widgets/controls",
          "model_name": "ProgressStyleModel",
          "model_module_version": "1.5.0",
          "state": {
            "_model_module": "@jupyter-widgets/controls",
            "_model_module_version": "1.5.0",
            "_model_name": "ProgressStyleModel",
            "_view_count": null,
            "_view_module": "@jupyter-widgets/base",
            "_view_module_version": "1.2.0",
            "_view_name": "StyleView",
            "bar_color": null,
            "description_width": ""
          }
        },
        "f0d763067b7a42ce861b5cc0bcf10f7b": {
          "model_module": "@jupyter-widgets/base",
          "model_name": "LayoutModel",
          "model_module_version": "1.2.0",
          "state": {
            "_model_module": "@jupyter-widgets/base",
            "_model_module_version": "1.2.0",
            "_model_name": "LayoutModel",
            "_view_count": null,
            "_view_module": "@jupyter-widgets/base",
            "_view_module_version": "1.2.0",
            "_view_name": "LayoutView",
            "align_content": null,
            "align_items": null,
            "align_self": null,
            "border": null,
            "bottom": null,
            "display": null,
            "flex": null,
            "flex_flow": null,
            "grid_area": null,
            "grid_auto_columns": null,
            "grid_auto_flow": null,
            "grid_auto_rows": null,
            "grid_column": null,
            "grid_gap": null,
            "grid_row": null,
            "grid_template_areas": null,
            "grid_template_columns": null,
            "grid_template_rows": null,
            "height": null,
            "justify_content": null,
            "justify_items": null,
            "left": null,
            "margin": null,
            "max_height": null,
            "max_width": null,
            "min_height": null,
            "min_width": null,
            "object_fit": null,
            "object_position": null,
            "order": null,
            "overflow": null,
            "overflow_x": null,
            "overflow_y": null,
            "padding": null,
            "right": null,
            "top": null,
            "visibility": null,
            "width": null
          }
        },
        "eb0247165050454eb202e4c87bea8462": {
          "model_module": "@jupyter-widgets/controls",
          "model_name": "DescriptionStyleModel",
          "model_module_version": "1.5.0",
          "state": {
            "_model_module": "@jupyter-widgets/controls",
            "_model_module_version": "1.5.0",
            "_model_name": "DescriptionStyleModel",
            "_view_count": null,
            "_view_module": "@jupyter-widgets/base",
            "_view_module_version": "1.2.0",
            "_view_name": "StyleView",
            "description_width": ""
          }
        }
      }
    }
  },
  "nbformat": 4,
  "nbformat_minor": 5
}